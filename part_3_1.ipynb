{
 "cells": [
  {
   "cell_type": "code",
   "execution_count": 1,
   "metadata": {},
   "outputs": [],
   "source": [
    "from dotenv import load_dotenv\n",
    "import os"
   ]
  },
  {
   "cell_type": "code",
   "execution_count": 2,
   "metadata": {},
   "outputs": [],
   "source": [
    "load_dotenv()\n",
    "API_KEY = os.getenv('OPENAI_API_KEY1')"
   ]
  },
  {
   "cell_type": "code",
   "execution_count": 4,
   "metadata": {},
   "outputs": [
    {
     "name": "stdout",
     "output_type": "stream",
     "text": [
      "The document is about a story set in two cities, depicting scenes of distress, poverty, grief, and social injustice during a turbulent historical period. It follows characters facing challenges related to societal issues, personal losses, and philosophical reflections on life and destiny.\n"
     ]
    }
   ],
   "source": [
    "from llama_index.core import VectorStoreIndex, SimpleDirectoryReader\n",
    "\n",
    "documents = SimpleDirectoryReader(\"data\").load_data()\n",
    "index = VectorStoreIndex.from_documents(documents)\n",
    "query_engine = index.as_query_engine()\n",
    "response = query_engine.query('What is this document about?')\n",
    "print(response)\n"
   ]
  },
  {
   "cell_type": "code",
   "execution_count": 5,
   "metadata": {},
   "outputs": [
    {
     "data": {
      "text/plain": [
       "Document(id_='81de59df-782f-4e48-bc34-54840d9cc9e0', embedding=None, metadata={'page_label': '1', 'file_name': '2city12p.pdf', 'file_path': '/home/gtrigo/apps/sources/ai/tutorial_ai_git/data/2city12p.pdf', 'file_type': 'application/pdf', 'file_size': 1316140, 'creation_date': '2024-12-29', 'last_modified_date': '2021-10-07'}, excluded_embed_metadata_keys=['file_name', 'file_type', 'file_size', 'creation_date', 'last_modified_date', 'last_accessed_date'], excluded_llm_metadata_keys=['file_name', 'file_type', 'file_size', 'creation_date', 'last_modified_date', 'last_accessed_date'], relationships={}, metadata_template='{key}: {value}', metadata_separator='\\n', text_resource=MediaResource(embeddings=None, data=None, text=\"A Tale of Two Cities\\nCharles Dickens\\nBook the First\\nRecalled to Life\\n1 The Period . . . . . . . . . . . . . . . . 3\\n2 The Mail . . . . . . . . . . . . . . . . 5\\n3 The Night Shadows . . . . . . . . . . . . . 10\\n4 The Preparation . . . . . . . . . . . . . . 14\\n5 The Wine-shop . . . . . . . . . . . . . . 24\\n6 The Shoemaker . . . . . . . . . . . . . . 33\\nBook the Second\\nThe Golden Thread\\n1 Five Years Later . . . . . . . . . . . . . . 45\\n2 A Sight . . . . . . . . . . . . . . . . . 50\\n3 A Disappointment . . . . . . . . . . . . . 56\\n4 Congratulatory . . . . . . . . . . . . . . 68\\n5 The Jackal . . . . . . . . . . . . . . . . 73\\n6 Hundreds of People . . . . . . . . . . . . . 78\\n7 Monseigneur in Town . . . . . . . . . . . . 89\\n8 Monseigneur in the Country . . . . . . . . . . 97\\n9 The Gorgon's Head . . . . . . . . . . . . . 102\\n10 Two Promises . . . . . . . . . . . . . . . 112\", mimetype=None, path=None, url=None), image_resource=None, audio_resource=None, video_resource=None, text_template='{metadata_str}\\n\\n{content}')"
      ]
     },
     "execution_count": 5,
     "metadata": {},
     "output_type": "execute_result"
    }
   ],
   "source": [
    "documents[0]"
   ]
  },
  {
   "cell_type": "code",
   "execution_count": 6,
   "metadata": {},
   "outputs": [
    {
     "name": "stdout",
     "output_type": "stream",
     "text": [
      "2city12p.pdf\n",
      "This document is about a woman pleading with a nobleman, referred to as Monseigneur, to place a marker over her husband's grave to prevent it from being forgotten.\n",
      "\n"
     ]
    }
   ],
   "source": [
    "filenames = []\n",
    "for document in documents: \n",
    "    if document.metadata['file_name'] not in filenames:\n",
    "        filenames.append(document.metadata['file_name'])\n",
    "for filename in filenames:\n",
    "    print(filename)\n",
    "    response = query_engine.query('What is this document about? {filename} ')\n",
    "    print(response)\n",
    "    print('')\n"
   ]
  },
  {
   "cell_type": "code",
   "execution_count": 7,
   "metadata": {},
   "outputs": [
    {
     "name": "stdout",
     "output_type": "stream",
     "text": [
      "The main characters in the book are Alexandre Manette, Lucie Manette, Sydney Carton, and Jarvis Lorry.\n"
     ]
    }
   ],
   "source": [
    "response=query_engine.query('who are the main characters in the book?')\n",
    "print(response)"
   ]
  },
  {
   "cell_type": "code",
   "execution_count": 8,
   "metadata": {},
   "outputs": [
    {
     "name": "stdout",
     "output_type": "stream",
     "text": [
      "The main characters are related as family members, with references to a husband, a father, a brother, and a young woman who is expecting a child.\n"
     ]
    }
   ],
   "source": [
    "response=query_engine.query('how are the main characters related to each other?')\n",
    "print(response)"
   ]
  },
  {
   "cell_type": "code",
   "execution_count": 9,
   "metadata": {},
   "outputs": [
    {
     "name": "stdout",
     "output_type": "stream",
     "text": [
      "Alexandre Manette is the doctor and father of Lucie Manette. Charles Darnay is in love with Lucie and respects the special bond between Doctor Manette and his daughter. Miss Pross is a close companion to Lucie and plays a significant role in their lives.\n"
     ]
    }
   ],
   "source": [
    "response=query_engine.query('could you make those relationships more clear? for example: Alexandre Manette is the doctor and father of Lucie Manette')\n",
    "print(response)"
   ]
  }
 ],
 "metadata": {
  "kernelspec": {
   "display_name": ".venv",
   "language": "python",
   "name": "python3"
  },
  "language_info": {
   "codemirror_mode": {
    "name": "ipython",
    "version": 3
   },
   "file_extension": ".py",
   "mimetype": "text/x-python",
   "name": "python",
   "nbconvert_exporter": "python",
   "pygments_lexer": "ipython3",
   "version": "3.10.12"
  }
 },
 "nbformat": 4,
 "nbformat_minor": 2
}
