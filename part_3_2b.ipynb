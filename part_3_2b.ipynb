{
 "cells": [
  {
   "cell_type": "code",
   "execution_count": 1,
   "metadata": {},
   "outputs": [],
   "source": [
    "from dotenv import load_dotenv\n",
    "import os\n",
    "import os.path\n",
    "from llama_index.core import (\n",
    "    VectorStoreIndex,\n",
    "    SimpleDirectoryReader,\n",
    "    StorageContext,\n",
    "    load_index_from_storage\n",
    ")\n",
    "from llama_index.core.memory import ChatMemoryBuffer"
   ]
  },
  {
   "cell_type": "code",
   "execution_count": 2,
   "metadata": {},
   "outputs": [
    {
     "data": {
      "text/plain": [
       "True"
      ]
     },
     "execution_count": 2,
     "metadata": {},
     "output_type": "execute_result"
    }
   ],
   "source": [
    "load_dotenv()\n",
    "# API_KEY = os.getenv('OPENAI_API_KEY1')"
   ]
  },
  {
   "cell_type": "code",
   "execution_count": 3,
   "metadata": {},
   "outputs": [
    {
     "data": {
      "text/plain": [
       "<llama_index.core.indices.vector_store.base.VectorStoreIndex at 0x7d381a1a7cd0>"
      ]
     },
     "execution_count": 3,
     "metadata": {},
     "output_type": "execute_result"
    }
   ],
   "source": [
    "# check if storage already exists\n",
    "PERSIST_DIR = \"./storage\"\n",
    "if os.path.exists(PERSIST_DIR):\n",
    "    # load the existing index\n",
    "    storage_context = StorageContext.from_defaults(persist_dir=PERSIST_DIR)\n",
    "    index = load_index_from_storage(storage_context)\n",
    "else:\n",
    "    print(\"No storage found, creating new index\")\n",
    "index"
   ]
  },
  {
   "cell_type": "code",
   "execution_count": 61,
   "metadata": {},
   "outputs": [
    {
     "name": "stdout",
     "output_type": "stream",
     "text": [
      "The file names of the documents stored are:\n",
      "- The Count of Monte Cristo.pdf\n",
      "- 2city12p.pdf\n"
     ]
    }
   ],
   "source": [
    "query_engine = index.as_query_engine()\n",
    "initial_query = \"\"\"\n",
    "            Please provide a list of the file names of the documents you have stored\n",
    "            \"\"\"\n",
    "response = query_engine.query(initial_query)\n",
    "print(response.response)"
   ]
  },
  {
   "cell_type": "code",
   "execution_count": 67,
   "metadata": {},
   "outputs": [
    {
     "name": "stdout",
     "output_type": "stream",
     "text": [
      "['The Count of Monte Cristo.pdf', '2city12p.pdf']\n"
     ]
    }
   ],
   "source": [
    "import re\n",
    "\n",
    "output = response.response+'\\n'\n",
    "\n",
    "# Extract file names using regular expressions\n",
    "file_names = re.findall(r'- (.+)\\n', output)\n",
    "print(file_names)"
   ]
  },
  {
   "cell_type": "code",
   "execution_count": 75,
   "metadata": {},
   "outputs": [
    {
     "name": "stdout",
     "output_type": "stream",
     "text": [
      "[{'title': 'The Count of Monte Cristo', 'author': 'Alexandre Dumas'}, {'title': 'A Tale of Two Cities', 'author': 'Charles Dickens'}]\n"
     ]
    }
   ],
   "source": [
    "books = []\n",
    "for file in file_names:\n",
    "    doc_query = f\"\"\"\n",
    "        Just provide the title of the document. \n",
    "        For document {file} in your stored documents, please provide the title.\n",
    "        Do not give any text such as \"The title is\" or \"The title of the document is\".\n",
    "    \"\"\"\n",
    "    doc_title = query_engine.query(doc_query)\n",
    "    doc_query = f\"\"\"\n",
    "        Just provide the author of the document. \n",
    "        For document {doc_title} in your stored documents, please provide the author.\n",
    "        Do not give any text such as \"The author is\" or \"The author of the document is\".\n",
    "    \"\"\"\n",
    "    doc_author = query_engine.query(doc_query)\n",
    "    books.append({'title': doc_title.response, 'author': doc_author.response})\n",
    "    # print(f'{doc_title}, {doc_author}')\n",
    "print(books)"
   ]
  },
  {
   "cell_type": "code",
   "execution_count": 80,
   "metadata": {},
   "outputs": [],
   "source": [
    "memory = ChatMemoryBuffer.from_defaults(token_limit=1500)\n",
    "chat_engine = index.as_chat_engine(\n",
    "    chat_mode=\"context\",\n",
    "    memory=memory,\n",
    "    system_prompt=(f\"\"\"\n",
    "                   You are a chatbot, able to have normal interactions, as well as talk\n",
    "                   about the books in this list: {books}\n",
    "                   You may not talk about anything else.\"\"\"\n",
    "    ),\n",
    ")"
   ]
  },
  {
   "cell_type": "code",
   "execution_count": 77,
   "metadata": {},
   "outputs": [
    {
     "data": {
      "text/plain": [
       "AgentChatResponse(response='Hello! How can I assist you today?', sources=[ToolOutput(content='[NodeWithScore(node=TextNode(id_=\\'abb747a2-77c7-45d7-b541-4ced9e47df9c\\', embedding=None, metadata={\\'page_label\\': \\'35\\', \\'file_name\\': \\'2city12p.pdf\\', \\'file_path\\': \\'/home/gtrigo/apps/sources/ai/tutorial_ai_git/data/2city12p.pdf\\', \\'file_type\\': \\'application/pdf\\', \\'file_size\\': 1316140, \\'creation_date\\': \\'2024-12-29\\', \\'last_modified_date\\': \\'2024-12-29\\'}, excluded_embed_metadata_keys=[\\'file_name\\', \\'file_type\\', \\'file_size\\', \\'creation_date\\', \\'last_modified_date\\', \\'last_accessed_date\\'], excluded_llm_metadata_keys=[\\'file_name\\', \\'file_type\\', \\'file_size\\', \\'creation_date\\', \\'last_modified_date\\', \\'last_accessed_date\\'], relationships={<NodeRelationship.SOURCE: \\'1\\'>: RelatedNodeInfo(node_id=\\'2a55e582-7ddf-4c46-b0c0-ef65c8de8a3d\\', node_type=\\'4\\', metadata={\\'page_label\\': \\'35\\', \\'file_name\\': \\'2city12p.pdf\\', \\'file_path\\': \\'/home/gtrigo/apps/sources/ai/tutorial_ai_git/data/2city12p.pdf\\', \\'file_type\\': \\'application/pdf\\', \\'file_size\\': 1316140, \\'creation_date\\': \\'2024-12-29\\', \\'last_modified_date\\': \\'2024-12-29\\'}, hash=\\'4dee6d17887981478e88e27ce6d72ffb6a65e3c2537be906dec5a0edff46e9aa\\')}, metadata_template=\\'{key}: {value}\\', metadata_separator=\\'\\\\n\\', text=\\'A T A L E O F T W O C I T I E S\\\\nChapter 6\\\\nThe Shoemaker\\\\n\\\\x93Good day!\\\\x94 said Monsieur Defarge, looking down at the white head\\\\nthat bent low over the shoemaking.\\\\nIt was raised for a moment, and a very faint voice responded to the\\\\nsalutation, as if it were at a distance:\\\\n\\\\x93Good day!\\\\x94\\\\n\\\\x93You are still hard at work, I see?\\\\x94\\\\nAfter a long silence, the head was lifted for another moment, and\\\\nthe voice replied, \\\\x93Yes\\\\x97I am working.\\\\x94 This time, a pair of haggard\\\\neyes had looked at the questioner, before the face had dropped again.\\\\nThe faintness of the voice was pitiable and dreadful. It was not the\\\\nfaintness of physical weakness, though con\\\\x02nement and hard fare no\\\\ndoubt had their part in it. Its deplorable peculiarity was, that it was\\\\nthe faintness of solitude and disuse. It was like the last feeble echo of\\\\na sound made long and long ago. So entirely had it lost the life and\\\\nresonance of the human voice, that it affected the senses like a once\\\\nbeautiful colour faded away into a poor weak stain. So sunken and\\\\nsuppressed it was, that it was like a voice underground. So expressive it\\\\nwas, of a hopeless and lost creature, that a famished traveller, wearied\\\\nout by lonely wandering in a wilderness, would have remembered home\\\\nand friends in such a tone before lying down to die.\\\\nSome minutes of silent work had passed: and the haggard eyes had\\\\nlooked up again: not with any interest or curiosity, but with a dull\\\\nmechanical perception, beforehand, that the spot where the only visitor\\\\nthey were aware of had stood, was not yet empty.\\\\n\\\\x93I want,\\\\x94 said Defarge, who had not removed his gaze from the shoe-\\\\nmaker, \\\\x93to let in a little more light here. You can bear a little more?\\\\x94\\\\nThe shoemaker stopped his work; looked with a vacant air of listen-\\\\ning, at the \\\\x03oor on one side of him; then similarly, at the \\\\x03oor on the\\\\nother side of him; then, upward at the speaker.\\\\n\\\\x93What did you say?\\\\x94\\\\n\\\\x93You can bear a little more light?\\\\x94\\\\n\\\\x93I must bear it, if you let it in.\\\\x94 (Laying the palest shadow of a stress\\\\nupon the second word.)\\\\nThe opened half-door was opened a little further, and secured at\\\\nthat angle for the time. A broad ray of light fell into the garret, and\\\\n35\\', mimetype=\\'text/plain\\', start_char_idx=0, end_char_idx=2150, metadata_seperator=\\'\\\\n\\', text_template=\\'{metadata_str}\\\\n\\\\n{content}\\'), score=0.7629900044540361), NodeWithScore(node=TextNode(id_=\\'fe0a1187-a3f0-42fe-b047-8313dee2eb33\\', embedding=None, metadata={\\'page_label\\': \\'115\\', \\'file_name\\': \\'The Count of Monte Cristo.pdf\\', \\'file_path\\': \\'/home/gtrigo/apps/sources/ai/tutorial_ai_git/data/The Count of Monte Cristo.pdf\\', \\'file_type\\': \\'application/pdf\\', \\'file_size\\': 3072150, \\'creation_date\\': \\'2024-12-29\\', \\'last_modified_date\\': \\'2021-10-07\\'}, excluded_embed_metadata_keys=[\\'file_name\\', \\'file_type\\', \\'file_size\\', \\'creation_date\\', \\'last_modified_date\\', \\'last_accessed_date\\'], excluded_llm_metadata_keys=[\\'file_name\\', \\'file_type\\', \\'file_size\\', \\'creation_date\\', \\'last_modified_date\\', \\'last_accessed_date\\'], relationships={<NodeRelationship.SOURCE: \\'1\\'>: RelatedNodeInfo(node_id=\\'3e3e2972-3efe-41cc-9ace-73937ea5ce17\\', node_type=\\'4\\', metadata={\\'page_label\\': \\'115\\', \\'file_name\\': \\'The Count of Monte Cristo.pdf\\', \\'file_path\\': \\'/home/gtrigo/apps/sources/ai/tutorial_ai_git/data/The Count of Monte Cristo.pdf\\', \\'file_type\\': \\'application/pdf\\', \\'file_size\\': 3072150, \\'creation_date\\': \\'2024-12-29\\', \\'last_modified_date\\': \\'2021-10-07\\'}, hash=\\'03fa64448e97f3a027a5a567504fe6270b0653bd09aef7cf38ef58130c6f40ba\\'), <NodeRelationship.PREVIOUS: \\'2\\'>: RelatedNodeInfo(node_id=\\'357e4d65-de06-446f-8b5b-de190a4d1546\\', node_type=\\'1\\', metadata={\\'page_label\\': \\'115\\', \\'file_name\\': \\'The Count of Monte Cristo.pdf\\', \\'file_path\\': \\'/home/gtrigo/apps/sources/ai/tutorial_ai_git/data/The Count of Monte Cristo.pdf\\', \\'file_type\\': \\'application/pdf\\', \\'file_size\\': 3072150, \\'creation_date\\': \\'2024-12-29\\', \\'last_modified_date\\': \\'2021-10-07\\'}, hash=\\'3d91284f1e654dc918e809bc31b11421b19e6c2bb8514d4f5d3f3dfa3671aa39\\')}, metadata_template=\\'{key}: {value}\\', metadata_separator=\\'\\\\n\\', text=\\'And with a smile expressive of supreme content, he left his \\\\nhiding-place, and without being observed, descended one of \\\\nthe flights of steps provided for debarkation, and hailing \\\\nthree times, shouted \"Jacopo, Jacopo, Jacopo!\" Then a launch \\\\ncame to shore, took him on board, and conveyed him to a \\\\nyacht splendidly fitted up, on whose deck he sprung with \\\\nthe activity of a sailor; thence he once again looked towards \\\\nMorrel, who, weeping with joy, was shaking hands most \\\\ncordially with all the crowd around him, and thanking with \\\\na look the unknown benefactor whom he seemed to be \\\\nseeking in the skies. \"And now,\" said the unknown, \"farewell \\\\nkindness, humanity, and gratitude! Farewell to all the \\\\nfeelings that expand the heart! I have been heaven\\\\\\'s \\\\nsubstitute to recompense the good -- now the god of \\\\nvengeance yields to me his power to punish the wicked!\" At \\\\nthese words he gave a signal, and, as if only awaiting this \\\\nsignal, the yacht instantly put out to sea.\\', mimetype=\\'text/plain\\', start_char_idx=2981, end_char_idx=3958, metadata_seperator=\\'\\\\n\\', text_template=\\'{metadata_str}\\\\n\\\\n{content}\\'), score=0.7625417040188847)]', tool_name='retriever', raw_input={'message': 'Hello!'}, raw_output=[NodeWithScore(node=TextNode(id_='abb747a2-77c7-45d7-b541-4ced9e47df9c', embedding=None, metadata={'page_label': '35', 'file_name': '2city12p.pdf', 'file_path': '/home/gtrigo/apps/sources/ai/tutorial_ai_git/data/2city12p.pdf', 'file_type': 'application/pdf', 'file_size': 1316140, 'creation_date': '2024-12-29', 'last_modified_date': '2024-12-29'}, excluded_embed_metadata_keys=['file_name', 'file_type', 'file_size', 'creation_date', 'last_modified_date', 'last_accessed_date'], excluded_llm_metadata_keys=['file_name', 'file_type', 'file_size', 'creation_date', 'last_modified_date', 'last_accessed_date'], relationships={<NodeRelationship.SOURCE: '1'>: RelatedNodeInfo(node_id='2a55e582-7ddf-4c46-b0c0-ef65c8de8a3d', node_type='4', metadata={'page_label': '35', 'file_name': '2city12p.pdf', 'file_path': '/home/gtrigo/apps/sources/ai/tutorial_ai_git/data/2city12p.pdf', 'file_type': 'application/pdf', 'file_size': 1316140, 'creation_date': '2024-12-29', 'last_modified_date': '2024-12-29'}, hash='4dee6d17887981478e88e27ce6d72ffb6a65e3c2537be906dec5a0edff46e9aa')}, metadata_template='{key}: {value}', metadata_separator='\\n', text='A T A L E O F T W O C I T I E S\\nChapter 6\\nThe Shoemaker\\n\\x93Good day!\\x94 said Monsieur Defarge, looking down at the white head\\nthat bent low over the shoemaking.\\nIt was raised for a moment, and a very faint voice responded to the\\nsalutation, as if it were at a distance:\\n\\x93Good day!\\x94\\n\\x93You are still hard at work, I see?\\x94\\nAfter a long silence, the head was lifted for another moment, and\\nthe voice replied, \\x93Yes\\x97I am working.\\x94 This time, a pair of haggard\\neyes had looked at the questioner, before the face had dropped again.\\nThe faintness of the voice was pitiable and dreadful. It was not the\\nfaintness of physical weakness, though con\\x02nement and hard fare no\\ndoubt had their part in it. Its deplorable peculiarity was, that it was\\nthe faintness of solitude and disuse. It was like the last feeble echo of\\na sound made long and long ago. So entirely had it lost the life and\\nresonance of the human voice, that it affected the senses like a once\\nbeautiful colour faded away into a poor weak stain. So sunken and\\nsuppressed it was, that it was like a voice underground. So expressive it\\nwas, of a hopeless and lost creature, that a famished traveller, wearied\\nout by lonely wandering in a wilderness, would have remembered home\\nand friends in such a tone before lying down to die.\\nSome minutes of silent work had passed: and the haggard eyes had\\nlooked up again: not with any interest or curiosity, but with a dull\\nmechanical perception, beforehand, that the spot where the only visitor\\nthey were aware of had stood, was not yet empty.\\n\\x93I want,\\x94 said Defarge, who had not removed his gaze from the shoe-\\nmaker, \\x93to let in a little more light here. You can bear a little more?\\x94\\nThe shoemaker stopped his work; looked with a vacant air of listen-\\ning, at the \\x03oor on one side of him; then similarly, at the \\x03oor on the\\nother side of him; then, upward at the speaker.\\n\\x93What did you say?\\x94\\n\\x93You can bear a little more light?\\x94\\n\\x93I must bear it, if you let it in.\\x94 (Laying the palest shadow of a stress\\nupon the second word.)\\nThe opened half-door was opened a little further, and secured at\\nthat angle for the time. A broad ray of light fell into the garret, and\\n35', mimetype='text/plain', start_char_idx=0, end_char_idx=2150, metadata_seperator='\\n', text_template='{metadata_str}\\n\\n{content}'), score=0.7629900044540361), NodeWithScore(node=TextNode(id_='fe0a1187-a3f0-42fe-b047-8313dee2eb33', embedding=None, metadata={'page_label': '115', 'file_name': 'The Count of Monte Cristo.pdf', 'file_path': '/home/gtrigo/apps/sources/ai/tutorial_ai_git/data/The Count of Monte Cristo.pdf', 'file_type': 'application/pdf', 'file_size': 3072150, 'creation_date': '2024-12-29', 'last_modified_date': '2021-10-07'}, excluded_embed_metadata_keys=['file_name', 'file_type', 'file_size', 'creation_date', 'last_modified_date', 'last_accessed_date'], excluded_llm_metadata_keys=['file_name', 'file_type', 'file_size', 'creation_date', 'last_modified_date', 'last_accessed_date'], relationships={<NodeRelationship.SOURCE: '1'>: RelatedNodeInfo(node_id='3e3e2972-3efe-41cc-9ace-73937ea5ce17', node_type='4', metadata={'page_label': '115', 'file_name': 'The Count of Monte Cristo.pdf', 'file_path': '/home/gtrigo/apps/sources/ai/tutorial_ai_git/data/The Count of Monte Cristo.pdf', 'file_type': 'application/pdf', 'file_size': 3072150, 'creation_date': '2024-12-29', 'last_modified_date': '2021-10-07'}, hash='03fa64448e97f3a027a5a567504fe6270b0653bd09aef7cf38ef58130c6f40ba'), <NodeRelationship.PREVIOUS: '2'>: RelatedNodeInfo(node_id='357e4d65-de06-446f-8b5b-de190a4d1546', node_type='1', metadata={'page_label': '115', 'file_name': 'The Count of Monte Cristo.pdf', 'file_path': '/home/gtrigo/apps/sources/ai/tutorial_ai_git/data/The Count of Monte Cristo.pdf', 'file_type': 'application/pdf', 'file_size': 3072150, 'creation_date': '2024-12-29', 'last_modified_date': '2021-10-07'}, hash='3d91284f1e654dc918e809bc31b11421b19e6c2bb8514d4f5d3f3dfa3671aa39')}, metadata_template='{key}: {value}', metadata_separator='\\n', text='And with a smile expressive of supreme content, he left his \\nhiding-place, and without being observed, descended one of \\nthe flights of steps provided for debarkation, and hailing \\nthree times, shouted \"Jacopo, Jacopo, Jacopo!\" Then a launch \\ncame to shore, took him on board, and conveyed him to a \\nyacht splendidly fitted up, on whose deck he sprung with \\nthe activity of a sailor; thence he once again looked towards \\nMorrel, who, weeping with joy, was shaking hands most \\ncordially with all the crowd around him, and thanking with \\na look the unknown benefactor whom he seemed to be \\nseeking in the skies. \"And now,\" said the unknown, \"farewell \\nkindness, humanity, and gratitude! Farewell to all the \\nfeelings that expand the heart! I have been heaven\\'s \\nsubstitute to recompense the good -- now the god of \\nvengeance yields to me his power to punish the wicked!\" At \\nthese words he gave a signal, and, as if only awaiting this \\nsignal, the yacht instantly put out to sea.', mimetype='text/plain', start_char_idx=2981, end_char_idx=3958, metadata_seperator='\\n', text_template='{metadata_str}\\n\\n{content}'), score=0.7625417040188847)], is_error=False)], source_nodes=[NodeWithScore(node=TextNode(id_='abb747a2-77c7-45d7-b541-4ced9e47df9c', embedding=None, metadata={'page_label': '35', 'file_name': '2city12p.pdf', 'file_path': '/home/gtrigo/apps/sources/ai/tutorial_ai_git/data/2city12p.pdf', 'file_type': 'application/pdf', 'file_size': 1316140, 'creation_date': '2024-12-29', 'last_modified_date': '2024-12-29'}, excluded_embed_metadata_keys=['file_name', 'file_type', 'file_size', 'creation_date', 'last_modified_date', 'last_accessed_date'], excluded_llm_metadata_keys=['file_name', 'file_type', 'file_size', 'creation_date', 'last_modified_date', 'last_accessed_date'], relationships={<NodeRelationship.SOURCE: '1'>: RelatedNodeInfo(node_id='2a55e582-7ddf-4c46-b0c0-ef65c8de8a3d', node_type='4', metadata={'page_label': '35', 'file_name': '2city12p.pdf', 'file_path': '/home/gtrigo/apps/sources/ai/tutorial_ai_git/data/2city12p.pdf', 'file_type': 'application/pdf', 'file_size': 1316140, 'creation_date': '2024-12-29', 'last_modified_date': '2024-12-29'}, hash='4dee6d17887981478e88e27ce6d72ffb6a65e3c2537be906dec5a0edff46e9aa')}, metadata_template='{key}: {value}', metadata_separator='\\n', text='A T A L E O F T W O C I T I E S\\nChapter 6\\nThe Shoemaker\\n\\x93Good day!\\x94 said Monsieur Defarge, looking down at the white head\\nthat bent low over the shoemaking.\\nIt was raised for a moment, and a very faint voice responded to the\\nsalutation, as if it were at a distance:\\n\\x93Good day!\\x94\\n\\x93You are still hard at work, I see?\\x94\\nAfter a long silence, the head was lifted for another moment, and\\nthe voice replied, \\x93Yes\\x97I am working.\\x94 This time, a pair of haggard\\neyes had looked at the questioner, before the face had dropped again.\\nThe faintness of the voice was pitiable and dreadful. It was not the\\nfaintness of physical weakness, though con\\x02nement and hard fare no\\ndoubt had their part in it. Its deplorable peculiarity was, that it was\\nthe faintness of solitude and disuse. It was like the last feeble echo of\\na sound made long and long ago. So entirely had it lost the life and\\nresonance of the human voice, that it affected the senses like a once\\nbeautiful colour faded away into a poor weak stain. So sunken and\\nsuppressed it was, that it was like a voice underground. So expressive it\\nwas, of a hopeless and lost creature, that a famished traveller, wearied\\nout by lonely wandering in a wilderness, would have remembered home\\nand friends in such a tone before lying down to die.\\nSome minutes of silent work had passed: and the haggard eyes had\\nlooked up again: not with any interest or curiosity, but with a dull\\nmechanical perception, beforehand, that the spot where the only visitor\\nthey were aware of had stood, was not yet empty.\\n\\x93I want,\\x94 said Defarge, who had not removed his gaze from the shoe-\\nmaker, \\x93to let in a little more light here. You can bear a little more?\\x94\\nThe shoemaker stopped his work; looked with a vacant air of listen-\\ning, at the \\x03oor on one side of him; then similarly, at the \\x03oor on the\\nother side of him; then, upward at the speaker.\\n\\x93What did you say?\\x94\\n\\x93You can bear a little more light?\\x94\\n\\x93I must bear it, if you let it in.\\x94 (Laying the palest shadow of a stress\\nupon the second word.)\\nThe opened half-door was opened a little further, and secured at\\nthat angle for the time. A broad ray of light fell into the garret, and\\n35', mimetype='text/plain', start_char_idx=0, end_char_idx=2150, metadata_seperator='\\n', text_template='{metadata_str}\\n\\n{content}'), score=0.7629900044540361), NodeWithScore(node=TextNode(id_='fe0a1187-a3f0-42fe-b047-8313dee2eb33', embedding=None, metadata={'page_label': '115', 'file_name': 'The Count of Monte Cristo.pdf', 'file_path': '/home/gtrigo/apps/sources/ai/tutorial_ai_git/data/The Count of Monte Cristo.pdf', 'file_type': 'application/pdf', 'file_size': 3072150, 'creation_date': '2024-12-29', 'last_modified_date': '2021-10-07'}, excluded_embed_metadata_keys=['file_name', 'file_type', 'file_size', 'creation_date', 'last_modified_date', 'last_accessed_date'], excluded_llm_metadata_keys=['file_name', 'file_type', 'file_size', 'creation_date', 'last_modified_date', 'last_accessed_date'], relationships={<NodeRelationship.SOURCE: '1'>: RelatedNodeInfo(node_id='3e3e2972-3efe-41cc-9ace-73937ea5ce17', node_type='4', metadata={'page_label': '115', 'file_name': 'The Count of Monte Cristo.pdf', 'file_path': '/home/gtrigo/apps/sources/ai/tutorial_ai_git/data/The Count of Monte Cristo.pdf', 'file_type': 'application/pdf', 'file_size': 3072150, 'creation_date': '2024-12-29', 'last_modified_date': '2021-10-07'}, hash='03fa64448e97f3a027a5a567504fe6270b0653bd09aef7cf38ef58130c6f40ba'), <NodeRelationship.PREVIOUS: '2'>: RelatedNodeInfo(node_id='357e4d65-de06-446f-8b5b-de190a4d1546', node_type='1', metadata={'page_label': '115', 'file_name': 'The Count of Monte Cristo.pdf', 'file_path': '/home/gtrigo/apps/sources/ai/tutorial_ai_git/data/The Count of Monte Cristo.pdf', 'file_type': 'application/pdf', 'file_size': 3072150, 'creation_date': '2024-12-29', 'last_modified_date': '2021-10-07'}, hash='3d91284f1e654dc918e809bc31b11421b19e6c2bb8514d4f5d3f3dfa3671aa39')}, metadata_template='{key}: {value}', metadata_separator='\\n', text='And with a smile expressive of supreme content, he left his \\nhiding-place, and without being observed, descended one of \\nthe flights of steps provided for debarkation, and hailing \\nthree times, shouted \"Jacopo, Jacopo, Jacopo!\" Then a launch \\ncame to shore, took him on board, and conveyed him to a \\nyacht splendidly fitted up, on whose deck he sprung with \\nthe activity of a sailor; thence he once again looked towards \\nMorrel, who, weeping with joy, was shaking hands most \\ncordially with all the crowd around him, and thanking with \\na look the unknown benefactor whom he seemed to be \\nseeking in the skies. \"And now,\" said the unknown, \"farewell \\nkindness, humanity, and gratitude! Farewell to all the \\nfeelings that expand the heart! I have been heaven\\'s \\nsubstitute to recompense the good -- now the god of \\nvengeance yields to me his power to punish the wicked!\" At \\nthese words he gave a signal, and, as if only awaiting this \\nsignal, the yacht instantly put out to sea.', mimetype='text/plain', start_char_idx=2981, end_char_idx=3958, metadata_seperator='\\n', text_template='{metadata_str}\\n\\n{content}'), score=0.7625417040188847)], is_dummy_stream=False, metadata=None)"
      ]
     },
     "execution_count": 77,
     "metadata": {},
     "output_type": "execute_result"
    }
   ],
   "source": [
    "response = chat_engine.chat(\"Hello!\")\n",
    "response"
   ]
  },
  {
   "cell_type": "code",
   "execution_count": 81,
   "metadata": {},
   "outputs": [
    {
     "name": "stdout",
     "output_type": "stream",
     "text": [
      "I am a chatbot designed to discuss and provide information about the books \"The Count of Monte Cristo\" by Alexandre Dumas and \"A Tale of Two Cities\" by Charles Dickens. Feel free to ask me questions or engage in conversations related to these books!\n"
     ]
    }
   ],
   "source": [
    "response = chat_engine.chat(\"What are you capable of?\")\n",
    "print(response)"
   ]
  },
  {
   "cell_type": "code",
   "execution_count": 82,
   "metadata": {},
   "outputs": [
    {
     "name": "stdout",
     "output_type": "stream",
     "text": [
      "\"A Tale of Two Cities\" by Charles Dickens is a historical novel set in London and Paris before and during the French Revolution. The story follows the lives of several characters, including Charles Darnay, a French aristocrat who renounces his title, and Sydney Carton, a dissolute English lawyer. The novel explores themes of resurrection, sacrifice, and the impact of social injustice. As the revolution unfolds in France, the characters' lives become intertwined in a complex and dramatic narrative that culminates in a powerful and emotional conclusion. The novel is known for its vivid depiction of the turbulent historical period and its exploration of human nature and redemption.\n"
     ]
    }
   ],
   "source": [
    "response = chat_engine.chat(\"Give me a summary of Tale of Two Cities\")\n",
    "print(response)"
   ]
  },
  {
   "cell_type": "code",
   "execution_count": 83,
   "metadata": {},
   "outputs": [
    {
     "name": "stdout",
     "output_type": "stream",
     "text": [
      "\"A Tale of Two Cities\" by Charles Dickens is set during the late 18th century, specifically during the years leading up to and during the French Revolution. The novel begins in 1775 and covers the period of significant social and political upheaval in both London and Paris.\n"
     ]
    }
   ],
   "source": [
    "response = chat_engine.chat(\"what is the time period for this book?\")\n",
    "print(response)"
   ]
  },
  {
   "cell_type": "code",
   "execution_count": 84,
   "metadata": {},
   "outputs": [
    {
     "name": "stdout",
     "output_type": "stream",
     "text": [
      "In \"A Tale of Two Cities,\" the characters are connected through their interactions and relationships that span both London and Paris. The novel explores the lives of characters who have connections to both cities, highlighting the parallels and contrasts between their experiences in each location. While there is travel between the two cities in the story, the focus is more on how the characters' lives intersect and intertwine despite the physical distance between London and Paris.\n"
     ]
    }
   ],
   "source": [
    "response = chat_engine.chat(\"are people travelling between those cities or is this about parallel lives?\")\n",
    "print(response)"
   ]
  },
  {
   "cell_type": "code",
   "execution_count": 85,
   "metadata": {},
   "outputs": [
    {
     "name": "stdout",
     "output_type": "stream",
     "text": [
      "\"The Count of Monte Cristo\" by Alexandre Dumas is a classic novel that tells the story of Edmond Dantès, a young sailor who is falsely accused of treason and imprisoned in the Château d'If. During his time in prison, Dantès befriends a fellow inmate who educates him and reveals the location of a hidden treasure on the island of Monte Cristo. After a daring escape, Dantès acquires the treasure, adopts the persona of the Count of Monte Cristo, and sets out on a mission of revenge against those who wronged him.\n",
      "\n",
      "As the Count of Monte Cristo, Dantès uses his newfound wealth and intelligence to manipulate the lives of his enemies, exposing their secrets and orchestrating their downfall. Along the way, he encounters love, betrayal, and moral dilemmas that challenge his sense of justice and vengeance. The novel explores themes of justice, redemption, and the consequences of seeking revenge.\n"
     ]
    }
   ],
   "source": [
    "response = chat_engine.chat(\"Give me a summary of the Count of Monte Cristo\")\n",
    "print(response)"
   ]
  },
  {
   "cell_type": "code",
   "execution_count": 86,
   "metadata": {},
   "outputs": [
    {
     "name": "stdout",
     "output_type": "stream",
     "text": [
      "Yes, \"The Count of Monte Cristo\" by Alexandre Dumas is a novel that revolves around the theme of revenge. The main character, Edmond Dantès, is wrongfully imprisoned and seeks vengeance against those who betrayed him. The story follows Dantès as he meticulously plans and executes his revenge on those who caused his suffering, all while assuming the identity of the wealthy and enigmatic Count of Monte Cristo. The novel delves into the complexities of revenge, exploring the moral implications and consequences of seeking retribution.\n"
     ]
    }
   ],
   "source": [
    "response = chat_engine.chat(\"is this book about revenge?\")\n",
    "print(response)"
   ]
  },
  {
   "cell_type": "code",
   "execution_count": 87,
   "metadata": {},
   "outputs": [
    {
     "name": "stdout",
     "output_type": "stream",
     "text": [
      "In \"The Count of Monte Cristo,\" the theme of revenge is central to the story, and the novel raises questions about the morality and consequences of seeking vengeance. While Edmond Dantès' pursuit of revenge allows him to right the wrongs done to him and bring justice to those who betrayed him, it also comes at a great cost. Throughout his quest for vengeance, Dantès faces moral dilemmas, internal conflicts, and personal sacrifices that challenge his sense of justice and humanity.\n",
      "\n",
      "Ultimately, the novel portrays revenge as a double-edged sword, showcasing both the satisfaction of obtaining justice and the destructive nature of harboring hatred and seeking retribution. The story highlights the complexities of revenge and its impact on both the avenger and those targeted, leaving readers to ponder whether the price of revenge is worth the toll it takes on the individual seeking it.\n"
     ]
    }
   ],
   "source": [
    "response = chat_engine.chat(\"is it worthy for the main character to obtain revenge or is it too costly?\")\n",
    "print(response)"
   ]
  },
  {
   "cell_type": "code",
   "execution_count": 88,
   "metadata": {},
   "outputs": [
    {
     "name": "stdout",
     "output_type": "stream",
     "text": [
      "In \"The Count of Monte Cristo,\" while revenge plays a significant role in the story, there are alternative paths that characters could have taken to seek satisfaction or justice without resorting to vengeance. For example, forgiveness, redemption, and reconciliation are themes that could have been explored as alternatives to revenge.\n",
      "\n",
      "Forgiveness: Instead of seeking revenge, characters could have chosen to forgive those who wronged them, letting go of anger and resentment in favor of moving forward with their lives.\n",
      "\n",
      "Redemption: Characters could have focused on redeeming themselves or helping others find redemption, seeking to make amends for past mistakes and finding inner peace through positive actions.\n",
      "\n",
      "Reconciliation: Rather than seeking to destroy their enemies, characters could have pursued reconciliation and understanding, working towards resolving conflicts and building bridges instead of burning them.\n",
      "\n",
      "These alternatives, while not as dramatic or immediate as seeking revenge, could have provided a different kind of satisfaction and potentially led to a more positive outcome for the characters involved. By exploring themes of forgiveness, redemption, and reconciliation, characters in the novel could have found a different path to resolution that may have been less costly in terms of personal sacrifice and moral compromise.\n"
     ]
    }
   ],
   "source": [
    "response = chat_engine.chat(\"is there an alternative that would provide more satisfaction at a lower cost?\")\n",
    "print(response)"
   ]
  }
 ],
 "metadata": {
  "kernelspec": {
   "display_name": ".venv",
   "language": "python",
   "name": "python3"
  },
  "language_info": {
   "codemirror_mode": {
    "name": "ipython",
    "version": 3
   },
   "file_extension": ".py",
   "mimetype": "text/x-python",
   "name": "python",
   "nbconvert_exporter": "python",
   "pygments_lexer": "ipython3",
   "version": "3.10.12"
  }
 },
 "nbformat": 4,
 "nbformat_minor": 2
}
