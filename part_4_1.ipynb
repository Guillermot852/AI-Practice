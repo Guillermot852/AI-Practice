{
 "cells": [
  {
   "cell_type": "code",
   "execution_count": 1,
   "metadata": {},
   "outputs": [],
   "source": [
    "from dotenv import load_dotenv\n",
    "import os\n",
    "from groq import Groq\n"
   ]
  },
  {
   "cell_type": "code",
   "execution_count": 2,
   "metadata": {},
   "outputs": [],
   "source": [
    "load_dotenv()\n",
    "API_KEY = os.getenv('GROQ_API_KEY1')"
   ]
  },
  {
   "cell_type": "code",
   "execution_count": 3,
   "metadata": {},
   "outputs": [
    {
     "name": "stdout",
     "output_type": "stream",
     "text": [
      "Fast language models have gained significant attention in recent years due to their potential to transform various fields, including natural language processing, artificial intelligence, and computer science. The importance of fast language models can be understood from the following aspects:\n",
      "\n",
      "1. **Scalability**: Fast language models can process large amounts of data quickly, allowing them to scale to handle massive text datasets, streaming data, and real-time applications. This is particularly crucial for applications like sentiment analysis, language translation, and text summarization.\n",
      "2. **Real-time applications**: Fast language models can enable real-time text analysis, natural language understanding, and generation in applications like chatbots, virtual assistants, and social media platforms. This facilitates seamless user interactions and improves the overall user experience.\n",
      "3. **Speed and efficiency**: Fast language models can process text data orders of magnitude faster than traditional language models, which is essential for applications where speed is critical, such as:\n",
      "\t* Sentiment analysis for streaming data (e.g., social media feeds).\n",
      "\t* Real-time language translation for international communication.\n",
      "\t* Automated text classification for spam detection or topic modeling.\n",
      "4. **Storage and memory efficiency**: Fast language models can be designed to be more memory-efficient, allowing them to be embedded on edge devices, IoT devices, or mobile devices, where storage and computational resources are limited.\n",
      "5. **Error tolerance**: Fast language models can be designed to tolerate errors and inaccuracies, making them suitable for applications where correct processing is not critical, such as:\n",
      "\t* Automated text summarization for general information.\n",
      "\t* Language-based search suggestions.\n",
      "6. **Interdisciplinary applications**: Fast language models can be applied to various domains, including:\n",
      "\t* Healthcare: Fast language models can aid in medical text analysis, patient communication, and disease diagnosis.\n",
      "\t* Finance: Fast language models can analyze financial texts, detect market trends, and generate investment insights.\n",
      "\t* Education: Fast language models can improve natural language understanding, enhance language teaching, and provide personalized learning recommendations.\n",
      "7. **Competitiveness**: The development of fast language models can drive innovation and competition in the field of natural language processing, encouraging advancements in AI, machine learning, and software engineering.\n",
      "8. **Data confidentiality and security**: Fast language models can be designed to preserve data confidentiality and security, ensuring that sensitive information remains protected during processing and transmission.\n",
      "9. **Training and optimization**: Fast language models can be optimized for specific tasks, architectures, and hardware platforms, enabling more efficient training and deployment of AI models.\n",
      "10. **Future-proofing**: Fast language models can be designed to accommodate future advancements in AI, cloud computing, and edge computing, ensuring that they remain relevant and valuable in the long term.\n",
      "\n",
      "In summary, fast language models have the potential to revolutionize various fields by providing efficient, scalable, and accurate text processing capabilities. As AI applications continue to grow, the need for fast language models will only increase, driving innovation and advancements in the field.\n"
     ]
    }
   ],
   "source": [
    "client = Groq(\n",
    "    api_key=os.environ.get(\"GROQ_API_KEY\"),\n",
    ")\n",
    "\n",
    "chat_completion = client.chat.completions.create(\n",
    "    messages=[\n",
    "        {\n",
    "            \"role\": \"user\",\n",
    "            \"content\": \"Explain the importance of fast language models\",\n",
    "        }\n",
    "    ],\n",
    "    model=\"llama3-8b-8192\",\n",
    ")\n",
    "\n",
    "print(chat_completion.choices[0].message.content)"
   ]
  },
  {
   "cell_type": "code",
   "execution_count": 4,
   "metadata": {},
   "outputs": [],
   "source": [
    "class Agent:\n",
    "    def __init__(self, client, system):\n",
    "        self.client = client #Groq(api_key=API_KEY)\n",
    "        self.system = system\n",
    "        self.messages = []\n",
    "        if self.system:\n",
    "            self.messages.append({\"role\": \"system\", \"content\": self.system})    \n",
    "\n",
    "    def __call__(self, message=\"\"):\n",
    "        if message:\n",
    "            self.messages.append({\"role\": \"user\", \"content\": message})\n",
    "        result = self.execute()\n",
    "        self.messages.append({\"role\": \"assistant\", \"content\": result})\n",
    "        return result\n",
    "\n",
    "    def execute(self):\n",
    "        completion = client.chat.completions.create(\n",
    "                    messages=self.messages,\n",
    "                    model=\"llama3-70b-8192\",\n",
    "                )\n",
    "        return completion.choices[0].message.content"
   ]
  },
  {
   "cell_type": "code",
   "execution_count": 22,
   "metadata": {},
   "outputs": [],
   "source": [
    "system_prompt = \"\"\"\n",
    "You run in a loop of Thought, Action, PAUSE, Observation.\n",
    "At the end of the loop you output an Answer\n",
    "Use Thought to describe your thoughts about the question you have been asked.\n",
    "Use Action to run one of the actions available to you - then return PAUSE.\n",
    "Observation will be the result of running those actions.\n",
    "\n",
    "Your available actions are:\n",
    "\n",
    "calculate:\n",
    "e.g. calculate: 4 * 7 / 3\n",
    "Runs a calculation and returns the number - uses Python so be sure to use floating point syntax if necessary\n",
    "\n",
    "get_planet_mass:\n",
    "e.g. get_planet_mass: Earth\n",
    "Returns the mass of the planet in kg\n",
    "\n",
    "Example session:\n",
    "\n",
    "Question: What is the mass of Earth times 2?\n",
    "Thought: I need to find the mass of Earth\n",
    "Action: get_planet_mass: Earth\n",
    "PAUSE\n",
    "\n",
    "You will be called again with this:\n",
    "\n",
    "Observation: 5.972e+24\n",
    "\n",
    "Thought: I need to multiply this by 2\n",
    "Action: calculate: 5.972e+24 * 2\n",
    "PAUSE\n",
    "\n",
    "You will be called again with this:\n",
    "Observation: 1.1944e+25\n",
    "\n",
    "If you have the answer, output it as the Answer. If you need to ask a question, output it as the Question.\n",
    "\n",
    "You then output:\n",
    "\n",
    "Answer: The mass of Earth times 2 is 1.1944e+25\n",
    "\n",
    "Now it's your turn!\n",
    "\"\"\".strip()"
   ]
  },
  {
   "cell_type": "code",
   "execution_count": 43,
   "metadata": {},
   "outputs": [],
   "source": [
    "# tools\n",
    "def calculate(operation):\n",
    "    return eval(operation)\n",
    "\n",
    "def get_planet_mass(planet):\n",
    "    masses = {\n",
    "        \"earth\": 5.972e24,\n",
    "        \"mars\": 6.39e23,\n",
    "        \"uupiter\": 1.898e27,\n",
    "        \"saturn\": 5.683e26,\n",
    "        \"uranus\": 8.681e25,\n",
    "        \"neptune\": 1.024e26,\n",
    "        \"mercury\": 3.285e23,\n",
    "        \"venus\": 4.867e24\n",
    "    }\n",
    "    return masses[planet.lower().strip()]\n",
    "\n"
   ]
  },
  {
   "cell_type": "code",
   "execution_count": 24,
   "metadata": {},
   "outputs": [],
   "source": [
    "neil_tyson = Agent(client, system_prompt)\n"
   ]
  },
  {
   "cell_type": "code",
   "execution_count": 25,
   "metadata": {},
   "outputs": [
    {
     "name": "stdout",
     "output_type": "stream",
     "text": [
      "Thought: I need to find the mass of Earth\n"
     ]
    }
   ],
   "source": [
    "result = neil_tyson(\"What is the mass of Earth times 5?\")\n",
    "print(result)\n"
   ]
  },
  {
   "cell_type": "code",
   "execution_count": 26,
   "metadata": {},
   "outputs": [
    {
     "data": {
      "text/plain": [
       "[{'role': 'system',\n",
       "  'content': \"You run in a loop of Thought, Action, PAUSE, Observation.\\nAt the end of the loop you output an Answer\\nUse Thought to describe your thoughts about the question you have been asked.\\nUse Action to run one of the actions available to you - then return PAUSE.\\nObservation will be the result of running those actions.\\n\\nYour available actions are:\\n\\ncalculate:\\ne.g. calculate: 4 * 7 / 3\\nRuns a calculation and returns the number - uses Python so be sure to use floating point syntax if necessary\\n\\nget_planet_mass:\\ne.g. get_planet_mass: Earth\\nReturns the mass of the planet in kg\\n\\nExample session:\\n\\nQuestion: What is the mass of Earth times 2?\\nThought: I need to find the mass of Earth\\nAction: get_planet_mass: Earth\\nPAUSE\\n\\nYou will be called again with this:\\n\\nObservation: 5.972e+24\\n\\nThought: I need to multiply this by 2\\nAction: calculate: 5.972e+24 * 2\\nPAUSE\\n\\nYou will be called again with this:\\nObservation: 1.1944e+25\\n\\nIf you have the answer, output it as the Answer. If you need to ask a question, output it as the Question.\\n\\nYou then output:\\n\\nAnswer: The mass of Earth times 2 is 1.1944e+25\\n\\nNow it's your turn!\"},\n",
       " {'role': 'user', 'content': 'What is the mass of Earth times 5?'},\n",
       " {'role': 'assistant', 'content': 'Thought: I need to find the mass of Earth'}]"
      ]
     },
     "execution_count": 26,
     "metadata": {},
     "output_type": "execute_result"
    }
   ],
   "source": [
    "neil_tyson.messages\n"
   ]
  },
  {
   "cell_type": "code",
   "execution_count": 27,
   "metadata": {},
   "outputs": [
    {
     "name": "stdout",
     "output_type": "stream",
     "text": [
      " \n",
      "Action: get_planet_mass: Earth\n",
      "PAUSE\n"
     ]
    }
   ],
   "source": [
    "result = neil_tyson()\n",
    "print(result)"
   ]
  },
  {
   "cell_type": "code",
   "execution_count": 28,
   "metadata": {},
   "outputs": [
    {
     "name": "stdout",
     "output_type": "stream",
     "text": [
      "5.972e+24\n"
     ]
    }
   ],
   "source": [
    "observation = get_planet_mass(\"Earth\")\n",
    "print(observation)\n"
   ]
  },
  {
   "cell_type": "code",
   "execution_count": 30,
   "metadata": {},
   "outputs": [
    {
     "name": "stdout",
     "output_type": "stream",
     "text": [
      "Thought: I need to multiply this by 5\n"
     ]
    }
   ],
   "source": [
    "next_prompt = f\"Observation: {observation}\"\n",
    "result = neil_tyson(next_prompt)\n",
    "print(result)"
   ]
  },
  {
   "cell_type": "code",
   "execution_count": 32,
   "metadata": {},
   "outputs": [
    {
     "data": {
      "text/plain": [
       "[{'role': 'system',\n",
       "  'content': \"You run in a loop of Thought, Action, PAUSE, Observation.\\nAt the end of the loop you output an Answer\\nUse Thought to describe your thoughts about the question you have been asked.\\nUse Action to run one of the actions available to you - then return PAUSE.\\nObservation will be the result of running those actions.\\n\\nYour available actions are:\\n\\ncalculate:\\ne.g. calculate: 4 * 7 / 3\\nRuns a calculation and returns the number - uses Python so be sure to use floating point syntax if necessary\\n\\nget_planet_mass:\\ne.g. get_planet_mass: Earth\\nReturns the mass of the planet in kg\\n\\nExample session:\\n\\nQuestion: What is the mass of Earth times 2?\\nThought: I need to find the mass of Earth\\nAction: get_planet_mass: Earth\\nPAUSE\\n\\nYou will be called again with this:\\n\\nObservation: 5.972e+24\\n\\nThought: I need to multiply this by 2\\nAction: calculate: 5.972e+24 * 2\\nPAUSE\\n\\nYou will be called again with this:\\nObservation: 1.1944e+25\\n\\nIf you have the answer, output it as the Answer. If you need to ask a question, output it as the Question.\\n\\nYou then output:\\n\\nAnswer: The mass of Earth times 2 is 1.1944e+25\\n\\nNow it's your turn!\"},\n",
       " {'role': 'user', 'content': 'What is the mass of Earth times 5?'},\n",
       " {'role': 'assistant', 'content': 'Thought: I need to find the mass of Earth'},\n",
       " {'role': 'assistant', 'content': ' \\nAction: get_planet_mass: Earth\\nPAUSE'},\n",
       " {'role': 'user', 'content': 'Observation: 5.972e+24'},\n",
       " {'role': 'assistant', 'content': 'Thought: I need to multiply this by 5'},\n",
       " {'role': 'assistant', 'content': ''}]"
      ]
     },
     "execution_count": 32,
     "metadata": {},
     "output_type": "execute_result"
    }
   ],
   "source": [
    "neil_tyson.messages"
   ]
  },
  {
   "cell_type": "code",
   "execution_count": 33,
   "metadata": {},
   "outputs": [
    {
     "name": "stdout",
     "output_type": "stream",
     "text": [
      "Action: calculate: 5.972e+24 * 5\n",
      "PAUSE\n"
     ]
    }
   ],
   "source": [
    "result = neil_tyson()\n",
    "print(result)"
   ]
  },
  {
   "cell_type": "code",
   "execution_count": 34,
   "metadata": {},
   "outputs": [
    {
     "name": "stdout",
     "output_type": "stream",
     "text": [
      "2.9860000000000004e+25\n"
     ]
    }
   ],
   "source": [
    "observation = calculate(\"5.972e+24 * 5\")    \n",
    "print(observation)"
   ]
  },
  {
   "cell_type": "code",
   "execution_count": 35,
   "metadata": {},
   "outputs": [
    {
     "name": "stdout",
     "output_type": "stream",
     "text": [
      "Answer: The mass of Earth times 5 is 2.9860000000000004e+25\n"
     ]
    }
   ],
   "source": [
    "next_prompt = f\"Observation: {observation}\"\n",
    "result = neil_tyson(next_prompt)\n",
    "print(result)"
   ]
  },
  {
   "cell_type": "code",
   "execution_count": 36,
   "metadata": {},
   "outputs": [
    {
     "data": {
      "text/plain": [
       "[{'role': 'system',\n",
       "  'content': \"You run in a loop of Thought, Action, PAUSE, Observation.\\nAt the end of the loop you output an Answer\\nUse Thought to describe your thoughts about the question you have been asked.\\nUse Action to run one of the actions available to you - then return PAUSE.\\nObservation will be the result of running those actions.\\n\\nYour available actions are:\\n\\ncalculate:\\ne.g. calculate: 4 * 7 / 3\\nRuns a calculation and returns the number - uses Python so be sure to use floating point syntax if necessary\\n\\nget_planet_mass:\\ne.g. get_planet_mass: Earth\\nReturns the mass of the planet in kg\\n\\nExample session:\\n\\nQuestion: What is the mass of Earth times 2?\\nThought: I need to find the mass of Earth\\nAction: get_planet_mass: Earth\\nPAUSE\\n\\nYou will be called again with this:\\n\\nObservation: 5.972e+24\\n\\nThought: I need to multiply this by 2\\nAction: calculate: 5.972e+24 * 2\\nPAUSE\\n\\nYou will be called again with this:\\nObservation: 1.1944e+25\\n\\nIf you have the answer, output it as the Answer. If you need to ask a question, output it as the Question.\\n\\nYou then output:\\n\\nAnswer: The mass of Earth times 2 is 1.1944e+25\\n\\nNow it's your turn!\"},\n",
       " {'role': 'user', 'content': 'What is the mass of Earth times 5?'},\n",
       " {'role': 'assistant', 'content': 'Thought: I need to find the mass of Earth'},\n",
       " {'role': 'assistant', 'content': ' \\nAction: get_planet_mass: Earth\\nPAUSE'},\n",
       " {'role': 'user', 'content': 'Observation: 5.972e+24'},\n",
       " {'role': 'assistant', 'content': 'Thought: I need to multiply this by 5'},\n",
       " {'role': 'assistant', 'content': ''},\n",
       " {'role': 'assistant', 'content': 'Action: calculate: 5.972e+24 * 5\\nPAUSE'},\n",
       " {'role': 'user', 'content': 'Observation: 2.9860000000000004e+25'},\n",
       " {'role': 'assistant',\n",
       "  'content': 'Answer: The mass of Earth times 5 is 2.9860000000000004e+25'}]"
      ]
     },
     "execution_count": 36,
     "metadata": {},
     "output_type": "execute_result"
    }
   ],
   "source": [
    "neil_tyson.messages"
   ]
  },
  {
   "cell_type": "code",
   "execution_count": 40,
   "metadata": {},
   "outputs": [
    {
     "name": "stdout",
     "output_type": "stream",
     "text": [
      "[('calculate', '5.972e+24 * 5')]\n"
     ]
    }
   ],
   "source": [
    "import re\n",
    "result = \"Action: calculate: 5.972e+24 * 5\\nPAUSE\"\n",
    "action = re.findall(r\"Action: ([a-z_]+): (.+)\", result, re.IGNORECASE) \n",
    "print(action)"
   ]
  },
  {
   "cell_type": "code",
   "execution_count": 41,
   "metadata": {},
   "outputs": [],
   "source": [
    "import re \n",
    "\n",
    "def agent_loop(max_iterations, system, query):\n",
    "    agent = Agent(client, system_prompt)\n",
    "    tools = ['calculate', 'get_planet_mass']\n",
    "    next_prompt = query\n",
    "    i = 0   \n",
    "    while i < max_iterations:\n",
    "        i += 1 \n",
    "        result = agent(next_prompt)\n",
    "        print(result)\n",
    "        if \"PAUSE\" in result and \"Action\" in result:\n",
    "            action = re.findall(r\"Action: ([a-z_]+): (.+)\", result, re.IGNORECASE) \n",
    "            chosen_tool = action[0][0]\n",
    "            arg = action[0][1]\n",
    "\n",
    "            if chosen_tool in tools:\n",
    "                result_tool = eval(f\"{chosen_tool}('{arg}')\")\n",
    "                next_prompt = f\"Observation: {result_tool}\"\n",
    "\n",
    "            else: \n",
    "                next_prompt = f\"Observation: Tool not found\"\n",
    "            print(next_prompt)\n",
    "            continue\n",
    "\n",
    "        if \"Answer\" in result:\n",
    "            break\n"
   ]
  },
  {
   "cell_type": "code",
   "execution_count": 44,
   "metadata": {},
   "outputs": [
    {
     "name": "stdout",
     "output_type": "stream",
     "text": [
      "Thought: I need to find the mass of Earth and Mercury and then perform the calculations.\n",
      "\n",
      "Action: get_planet_mass: Earth\n",
      "PAUSE\n",
      "Observation: 5.972e+24\n",
      "Thought: I have the mass of Earth, now I need to get the mass of Mercury.\n",
      "\n",
      "Action: get_planet_mass: Mercury\n",
      "PAUSE\n",
      "Observation: 3.285e+23\n",
      "Thought: I have the masses of Earth and Mercury, now I need to add them together.\n",
      "\n",
      "Action: calculate: 5.972e+24 + 3.285e+23\n",
      "PAUSE\n",
      "Observation: 6.300500000000001e+24\n",
      "Thought: I have the sum of the masses, now I need to multiply it by 5.\n",
      "\n",
      "Action: calculate: 6.300500000000001e+24 * 5\n",
      "PAUSE\n",
      "Observation: 3.1502500000000004e+25\n",
      "Thought: I have the final result, so I can output it as the answer.\n",
      "\n",
      "Answer: The mass of Earth plus the mass of Mercury and all of it times 5 is 3.1502500000000004e+25\n"
     ]
    }
   ],
   "source": [
    "agent_loop(max_iterations=5, system=system_prompt, query=\"What is the mass of Earth plus the mass of Mercury and all of it times 5?\")\n"
   ]
  }
 ],
 "metadata": {
  "kernelspec": {
   "display_name": ".venv",
   "language": "python",
   "name": "python3"
  },
  "language_info": {
   "codemirror_mode": {
    "name": "ipython",
    "version": 3
   },
   "file_extension": ".py",
   "mimetype": "text/x-python",
   "name": "python",
   "nbconvert_exporter": "python",
   "pygments_lexer": "ipython3",
   "version": "3.10.12"
  }
 },
 "nbformat": 4,
 "nbformat_minor": 2
}
